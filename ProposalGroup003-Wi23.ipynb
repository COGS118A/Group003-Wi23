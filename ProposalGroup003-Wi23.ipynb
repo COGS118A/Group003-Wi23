{
 "cells": [
  {
   "cell_type": "markdown",
   "metadata": {},
   "source": [
    "# COGS 118A- Project Proposal"
   ]
  },
  {
   "attachments": {},
   "cell_type": "markdown",
   "metadata": {},
   "source": [
    "# Names\n",
    "\n",
    "- Angkitha Anguraj\n",
    "- Andres Villegas\n",
    "- Hieu Pham\n",
    "- Sujal Nahata\n",
    "- Denny Yoo"
   ]
  },
  {
   "attachments": {},
   "cell_type": "markdown",
   "metadata": {},
   "source": [
    "# Abstract \n",
    "As time progresses, scientists and civilians alike are growing concerned by the increased frequency of earthquakes. Since earthquakes are a product of built-up tension between tectonic plates, they are often described as hard to predict. However, we believe utilizing what we have learned about supervised learning in combination with past earthquake data will help us magnitude of future earthquakes. This project aims to predict the magnitude of future earthquakes using machine learning techniques; we will use linear regression, regression decision trees, and feedforward neural networks. The dataset utilized is a public dataset from Kaggle that contains significant earthquakes from 1965-2016. We trained these models to describe our earthquake features in relation to the magnitude and predict magnitudes of future earthquakes, ultimately providing us insights into the relationship between earthquake features and magnitudes. This will help us prevent future earthquakes-related catastrophes. "
   ]
  },
  {
   "attachments": {},
   "cell_type": "markdown",
   "metadata": {},
   "source": [
    "# Background\n",
    "\n",
    "Fill in the background and discuss the kind of prior work that has gone on in this research area here. **Use inline citation** to specify which references support which statements.  You can do that through HTML footnotes (demonstrated here). I used to reccommend Markdown footnotes (google is your friend) because they are simpler but recently I have had some problems with them working for me whereas HTML ones always work so far. So use the method that works for you, but do use inline citations.\n",
    "\n",
    "Here is an example of inline citation. After government genocide in the 20th century, real birds were replaced with surveillance drones designed to look just like birds<a name=\"lorenz\"></a>[<sup>[1]</sup>](#lorenznote). Use a minimum of 2 or 3 citations, but we prefer more <a name=\"admonish\"></a>[<sup>[2]</sup>](#admonishnote). You need enough citations to fully explain and back up important facts. \n",
    "\n",
    "Remeber you are trying to explain why someone would want to answer your question or why your hypothesis is in the form that you've stated. \n",
    "\n",
    "\n",
    "The National Earthquake Information Center (NEIC) is responsible for determining the location and magnitude of significant earthquakes worldwide and disseminating this information to relevant organizations and the general public<a name=\"usgs\"></a>[<sup>[1]</sup>](#usgsnote). Since 1965, the NEIC has been maintaining a comprehensive earthquake database, which includes information on earthquakes with a magnitude of 5.5 or higher. This database serves as a crucial resource for scientific research and aids in earthquake prediction<a name=\"usgs\"></a>[<sup>[1]</sup>](#usgsnote)<a name=\"neic\"></a>[<sup>[2]</sup>](#neicnote).The NEIC relies on a variety of technologies to detect and locate earthquakes, including seismometers, GPS, and satellite imagery2. Seismometers detect ground motion caused by earthquakes and are capable of detecting earthquakes that occur anywhere on the planet<a name=\"neic\"></a>[<sup>[2]</sup>](#neicnote). GPS technology can detect deformations in the Earth's crust caused by tectonic activity and can help scientists predict future earthquakes2. Satellite imagery can also provide information on changes in the Earth's surface, which may indicate the occurrence of an earthquake<a name=\"neic\"></a>[<sup>[2]</sup>](#neicnote).\n",
    "Earthquake prediction is of utmost importance, as it can help to minimize the damage and loss of life caused by these natural disasters<a name=\"wef\"></a>[<sup>[3]</sup>](#wefnote). Seismologists and geologists have been studying earthquakes for many years, and detecting and reporting them accurately and promptly is a critical part of their work. The NEIC utilizes several techniques to determine the location and magnitude of earthquakes, including analyzing seismic waves and signals detected by seismometers<a name=\"usgs\"></a>[<sup>[1]</sup>](#usgsnote). In recent years, advances in seismometer technology and data processing techniques have allowed for more precise measurements of seismic signals and faster processing of earthquake data<a name=\"wef\"></a>[<sup>[3]</sup>](#wefnote).\n",
    "The NEIC's earthquake database has been instrumental in identifying patterns and trends in earthquake activity, which can help in predicting future earthquakes<a name=\"usgs\"></a>[<sup>[1]</sup>](#usgsnote). The ability to predict earthquakes accurately can aid in emergency management and disaster response, potentially saving many lives and minimizing damage to infrastructure<a name=\"wef\"></a>[<sup>[3]</sup>](#wefnote).\n",
    "Overall, earthquake research remains a critical area of study, and ongoing efforts to improve earthquake detection, reporting, and prediction will help to minimize the impact of these natural disasters on people and communities worldwide<a name=\"wef\"></a>[<sup>[3]</sup>](#wefnote).\n"
   ]
  },
  {
   "attachments": {},
   "cell_type": "markdown",
   "metadata": {},
   "source": [
    "# Problem Statement\n",
    "\n",
    "As the number and intensity of earthquakes has increased, it has become increasingly important to predict the when, where, and strength of earthquakes. Our goal through our project is to predict characteristics of future earthquakes, with a focus on magnitude. In doing so, we can prepare emergency supplies to those affected and prevent large scale loss of life."
   ]
  },
  {
   "attachments": {},
   "cell_type": "markdown",
   "metadata": {},
   "source": [
    "# Data\n",
    "\n",
    "The dataset can be accessed at this link: https://www.kaggle.com/datasets/usgs/earthquake-database\n",
    "\n",
    "The data was compiled by the United States Geological Survey (USGS) pulling from information provided by the National Earthquake Information Center (NEIC). It focuses on earthquakes that were recorded at 5.5 magnitude or higher. \t\n",
    "\n",
    "There are over 23,000 data points with 21 different variables.\n",
    "\n",
    "These variables include: date, time, latitude, longitude, type, depth, depth error, depth seismic stations, magnitude, magnitude type, magnitude error, magnitude seismic stations, azimuthal gap, horizontal distance, horizontal error, root mean square.\n",
    "\n",
    "An observation will include data for each of these variables. \n",
    "\n",
    "Some of the critical variables will be: date, latitude, longitude, magnitude, and depth. Since all of these variables are numerical with the exception of date, they will be left in their raw form. For date, we will transform it into a singular number, and use modular arithmetic to convert from a number to a readable date.\n",
    "Some special cleaning that may need to occur will be deletion of data that doesn’t have entries for certain variables. For every variable listed after depth (with the exception of magnitude), there are missing entries and we will not be able to use the variable to its greatest extent with missing values. Thus we will need to either not use the variable, or use a much smaller dataset. \n"
   ]
  },
  {
   "attachments": {},
   "cell_type": "markdown",
   "metadata": {},
   "source": [
    "# Proposed Solution\n",
    "\n",
    "After receiving feedback from instructors, we decided it would be best to predict only the magnitude of future earthquakes utilizing three models: a linear regression, a regression tree, and a neural network. We chose not to predict other features as the models we studied in class equip us to predict one feature per model. \n",
    "In order to better visualize where earthquakes occur, we converted the longitude and latitude coordinates featured in our dataset into grid locations (analogous to a chess board). We would graph the earthquakes on this grid and utilize the grid coordinate as one of our features. \n",
    "\n",
    "Since magnitudes are an integral in interpreting the danger of earthquakes and are continuous numerical values, we chose to use linear regression; it has the ability to accurately model relationships and predict continuous numerical values. In this case, the features of our model would be the grid coordinate, depth, and azimuthal gap. Using these, we will predict the magnitude as our data point. In order to test the accuracy of this model, we will use mean squared error.  \n",
    "\n",
    "On the other hand, we plan on using a regression decision tree. This model is similar to linear regression. Its only difference is that it uses decision partitioning to make its regression. The variables we’ll feed into the decision tree will stay the same as the previous model. Each of these will act as a split for the model. A regression decision tree model is appropriate for our project as it’s good for predicting a singular numerical value. We will then use cross validation to check the accuracy of our model’s results. \n",
    "\n",
    "Finally, after researching, we decided to use feedforward neural networks featured in PyTorch as our neural network model. Since predicting magnitude is a regression based problem and our data is tabular in nature a feedforward neural network works best. We do not need to use a CNN as they’re typically used for image processing or data with spatial relationships. RNNs are off the table as they aren’t applicable to tabular data. Again, the features remain the same as the previous models. Since the size of our dataset is big, we aim to create a model using 40-50% of our dataset. We will train our neural network and fit it to our split dataset. To validate the accuracy of our neural network, we will calculate the loss/error for our batches of data and use functions similar to those within discussion lab eight to calculate the final accuracy. \n",
    "\n",
    "To first clean our data, we will utilize Pandas. To create the aforementioned grid coordinates and graph our data, we will need to import Matplotlib and Seaborn. In addition, given that we mainly utilize regression models, we will need to import Numpy, Scikit-Learn, and PyTorch (and the necessary functions and libraries). All these in conjunction with one another will help us predict the magnitude of future earthquakes and validate the accuracy of our predictions. We will finalize on n whichever model produces the highest accuracy. \n",
    "\n"
   ]
  },
  {
   "attachments": {
    "image.png": {
     "image/png": "[encoded data removed]"
    }
   },
   "cell_type": "markdown",
   "metadata": {},
   "source": [
    "# Evaluation Metrics\n",
    "\n",
    "Since we are using a linear regression model, the most appropriate evaluation metric to use is mean squared error. Since the predictions of our model are continuous values, this will give us a quantitative overview of how far off the actual values are from the predicted values.\n",
    "![image.png](attachment:image.png),\n",
    "where mx+b is the linear regression model with weight vector m and constant vector b.\n"
   ]
  },
  {
   "cell_type": "markdown",
   "metadata": {},
   "source": [
    "# Ethics & Privacy"
   ]
  },
  {
   "attachments": {},
   "cell_type": "markdown",
   "metadata": {},
   "source": [
    "If your project has obvious potential concerns with ethics or data privacy discuss that here.  Almost every ML project put into production can have ethical implications if you use your imagination. Use your imagination. Get creative!\n",
    "\n",
    "Even if you can't come up with an obvious ethical concern that should be addressed, you should know that a large number of ML projects that go into producation have unintended consequences and ethical problems once in production. How will your team address these issues?\n",
    "\n",
    "Consider a tool to help you address the potential issues such as https://deon.drivendata.org"
   ]
  },
  {
   "cell_type": "markdown",
   "metadata": {},
   "source": [
    "# Team Expectations "
   ]
  },
  {
   "attachments": {},
   "cell_type": "markdown",
   "metadata": {},
   "source": [
    "Put things here that cement how you will interact/communicate as a team, how you will handle conflict and difficulty, how you will handle making decisions and setting goals/schedule, how much work you expect from each other, how you will handle deadlines, etc...\n",
    "* *Team Expectation 1*\n",
    "* *Team Expectation 2*\n",
    "* *Team Expecation 3*\n",
    "* ...\n",
    "\n",
    "Put things here that cement how you will interact/communicate as a team, how you will handle conflict and difficulty, how you will handle making decisions and setting goals/schedule, how much work you expect from each other, how you will handle deadlines, etc...\n",
    "If a teammate has any problems completing their work or making it to meetings, they must communicate it with the rest of the team during a meeting or on our team Discord server.\n",
    "During each meeting, we will delegate tasks and provide constructive feedback of each others’ work to efficiently finish the project.\n",
    "After completing individually assigned work, we will conduct a collective project review on the day of each milestone/section deadline to ensure quality.\n",
    "If any group conflict or individual difficulty arises, we should do our best to help each other and create additional meetings if necessary.\n"
   ]
  },
  {
   "cell_type": "markdown",
   "metadata": {},
   "source": [
    "# Project Timeline Proposal"
   ]
  },
  {
   "attachments": {},
   "cell_type": "markdown",
   "metadata": {},
   "source": [
    "Replace this with something meaningful that is appropriate for your needs. It doesn't have to be something that fits this format.  It doesn't have to be set in stone... \"no battle plan survives contact with the enemy\". But you need a battle plan nonetheless, and you need to keep it updated so you understand what you are trying to accomplish, who's responsible for what, and what the expected due dates are for each item.\n",
    "\n",
    "| Meeting Date  | Meeting Time| Completed Before Meeting  | Discuss at Meeting |\n",
    "|---|---|---|---|\n",
    "| 2/17  |  3 PM |  Brainstorm topics/questions   | Determine best form of communication; Discuss and decide on final project topic; discuss hypothesis; begin background research | \n",
    "| 2/19  |  2 AM |  Do background research on topic  | Discuss ideal dataset(s) and ethics; draft project proposal | \n",
    "| 2/26  | 2 AM  | Edit, finalize, and submit proposal; Search for datasets  | Discuss Wrangling and possible analytical approaches; Assign group members to lead each specific part   |\n",
    "| 3/5  | 2 PM  | Import & Wrangle Data ,do some EDA  | Review/Edit wrangling/EDA; Discuss Analysis Plan   |\n",
    "| 3/8  | 2 PM  | Finalize wrangling/EDA; Begin programming for project  | Discuss/edit project code; Complete project |\n",
    "| 3/11  | 2 PM  | Complete analysis; Draft results/conclusion/discussion | Discuss/edit full project |\n",
    "| 3/19  | Before 11:59 PM  | NA | Turn in Final Project  |"
   ]
  },
  {
   "attachments": {},
   "cell_type": "markdown",
   "metadata": {},
   "source": [
    "# Footnotes\n",
    "\n",
    "<a name = \"usgsnote\"></a> 1.[^](#usgs): \"National Earthquake Information Center (NEIC).\" U.S. Geological Survey, https://www.usgs.gov/programs/earthquake-hazards/national-earthquake-information-center-neic<br>\n",
    "<a name = \"neicnote\"></a> 2.[^](#neic)“NEIC - the National Earthquake Information Center” U.S. Geological Survey. (n.d.). Earthquake Hazards Program. ScienceBase. https://www.sciencebase.gov/catalog/item/505a613ee4b0c8380cd71885<br>\n",
    "<a name = \"wefnote\"></a> 3.[^](#wef)\"The science of earthquake prediction explained.\" World Economic Forum, 15 Aug. 2016, https://www.weforum.org/agenda/2016/08/the-science-of-earthquake-prediction-explained/<br>\n"
   ]
  },
  {
   "cell_type": "code",
   "execution_count": null,
   "metadata": {},
   "outputs": [],
   "source": []
  }
 ],
 "metadata": {
  "kernelspec": {
   "display_name": "Python 3",
   "language": "python",
   "name": "python3"
  },
  "language_info": {
   "codemirror_mode": {
    "name": "ipython",
    "version": 3
   },
   "file_extension": ".py",
   "mimetype": "text/x-python",
   "name": "python",
   "nbconvert_exporter": "python",
   "pygments_lexer": "ipython3",
   "version": "3.11.0"
  },
  "vscode": {
   "interpreter": {
    "hash": "c261aea317cc0286b3b3261fbba9abdec21eaa57589985bb7a274bf54d6cc0a7"
   }
  }
 },
 "nbformat": 4,
 "nbformat_minor": 2
}
